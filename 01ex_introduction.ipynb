{
  "nbformat": 4,
  "nbformat_minor": 0,
  "metadata": {
    "kernelspec": {
      "display_name": "Python 3",
      "language": "python",
      "name": "python3"
    },
    "language_info": {
      "codemirror_mode": {
        "name": "ipython",
        "version": 3
      },
      "file_extension": ".py",
      "mimetype": "text/x-python",
      "name": "python",
      "nbconvert_exporter": "python",
      "pygments_lexer": "ipython3",
      "version": "3.8.5"
    },
    "colab": {
      "name": "01ex_introduction.ipynb",
      "provenance": [],
      "collapsed_sections": [],
      "include_colab_link": true
    }
  },
  "cells": [
    {
      "cell_type": "markdown",
      "metadata": {
        "id": "view-in-github",
        "colab_type": "text"
      },
      "source": [
        "<a href=\"https://colab.research.google.com/github/tuncermerve/HighLevelProgramming2021/blob/main/01ex_introduction.ipynb\" target=\"_parent\"><img src=\"https://colab.research.google.com/assets/colab-badge.svg\" alt=\"Open In Colab\"/></a>"
      ]
    },
    {
      "cell_type": "markdown",
      "metadata": {
        "id": "iROZBuK_IGzi"
      },
      "source": [
        "1. The HelloWorld replacement\n",
        "\n",
        "a) Write a program that prints the numbers from 1 to 100. But for multiples of three print \"Hello\" instead of the number and for the multiples of five print \"World\". For numbers which are multiples of both three and five print \"HelloWorld\".\n",
        "\n",
        "b) Put the result in a tuple and substitute \"Hello\" with \"Python\" and \"World\" with \"Works\"."
      ]
    },
    {
      "cell_type": "code",
      "metadata": {
        "colab": {
          "base_uri": "https://localhost:8080/"
        },
        "id": "vC1wEoCPLuA9",
        "outputId": "63f8ee35-e2c8-4d18-9304-08f222884b90"
      },
      "source": [
        "for i in range(1, 101):\n",
        "    if (i%15 == 0):\n",
        "        print(\"HelloWorld\", end=\"  \")\n",
        "    elif (i%3 == 0):\n",
        "        print(\"Hello\", end=\"  \")\n",
        "    elif(i%5 == 0):\n",
        "        print(\"World\", end=\"  \")\n",
        "    else:\n",
        "        print(i, end=\"  \")\n",
        "     \n"
      ],
      "execution_count": null,
      "outputs": [
        {
          "output_type": "stream",
          "name": "stdout",
          "text": [
            "1  2  Hello  4  World  Hello  7  8  Hello  World  11  Hello  13  14  HelloWorld  16  17  Hello  19  World  Hello  22  23  Hello  World  26  Hello  28  29  HelloWorld  31  32  Hello  34  World  Hello  37  38  Hello  World  41  Hello  43  44  HelloWorld  46  47  Hello  49  World  Hello  52  53  Hello  World  56  Hello  58  59  HelloWorld  61  62  Hello  64  World  Hello  67  68  Hello  World  71  Hello  73  74  HelloWorld  76  77  Hello  79  World  Hello  82  83  Hello  World  86  Hello  88  89  HelloWorld  91  92  Hello  94  World  Hello  97  98  Hello  World  "
          ]
        }
      ]
    },
    {
      "cell_type": "code",
      "metadata": {
        "id": "aqvBv4s5NmEL"
      },
      "source": [
        "num = []\n",
        "for i in range(1, 101):\n",
        "    if (i%15 == 0):\n",
        "        num.append(\"HelloWorld\")\n",
        "    elif (i%3 == 0):\n",
        "        num.append(\"Hello\")\n",
        "    elif(i%5 == 0):\n",
        "        num.append(\"World\")\n",
        "    else:\n",
        "      num.append(i)\n",
        "t = tuple(num)  \n",
        "lst= list(t)\n",
        "\n",
        "  \n",
        "\n",
        "        "
      ],
      "execution_count": null,
      "outputs": []
    },
    {
      "cell_type": "code",
      "metadata": {
        "colab": {
          "base_uri": "https://localhost:8080/"
        },
        "id": "HOMFE2wGQeTp",
        "outputId": "8142a8c7-1398-4b29-e5a7-22588245c27c"
      },
      "source": [
        "print(t)"
      ],
      "execution_count": null,
      "outputs": [
        {
          "output_type": "stream",
          "name": "stdout",
          "text": [
            "(1, 2, 'Hello', 4, 'World', 'Hello', 7, 8, 'Hello', 'World', 11, 'Hello', 13, 14, 'HelloWorld', 16, 17, 'Hello', 19, 'World', 'Hello', 22, 23, 'Hello', 'World', 26, 'Hello', 28, 29, 'HelloWorld', 31, 32, 'Hello', 34, 'World', 'Hello', 37, 38, 'Hello', 'World', 41, 'Hello', 43, 44, 'HelloWorld', 46, 47, 'Hello', 49, 'World', 'Hello', 52, 53, 'Hello', 'World', 56, 'Hello', 58, 59, 'HelloWorld', 61, 62, 'Hello', 64, 'World', 'Hello', 67, 68, 'Hello', 'World', 71, 'Hello', 73, 74, 'HelloWorld', 76, 77, 'Hello', 79, 'World', 'Hello', 82, 83, 'Hello', 'World', 86, 'Hello', 88, 89, 'HelloWorld', 91, 92, 'Hello', 94, 'World', 'Hello', 97, 98, 'Hello', 'World')\n"
          ]
        }
      ]
    },
    {
      "cell_type": "code",
      "metadata": {
        "colab": {
          "base_uri": "https://localhost:8080/"
        },
        "id": "0ac9qEc3MnzX",
        "outputId": "62f9165d-f7e6-4a2c-fe4e-ef3e6a9ea7a6"
      },
      "source": [
        "for i in range(len(lst)):\n",
        "    if lst[i]== \"Hello\":\n",
        "        lst[i] =\"Python\"\n",
        "    elif lst[i]== \"World\":\n",
        "        lst[i] =\"Works\"\n",
        "\n",
        "python_works_tuple=tuple(lst)\n",
        "print(python_works_tuple)"
      ],
      "execution_count": 35,
      "outputs": [
        {
          "output_type": "stream",
          "name": "stdout",
          "text": [
            "(1, 2, 'Python', 4, 'Works', 'Python', 7, 8, 'Python', 'Works', 11, 'Python', 13, 14, 'HelloWorld', 16, 17, 'Python', 19, 'Works', 'Python', 22, 23, 'Python', 'Works', 26, 'Python', 28, 29, 'HelloWorld', 31, 32, 'Python', 34, 'Works', 'Python', 37, 38, 'Python', 'Works', 41, 'Python', 43, 44, 'HelloWorld', 46, 47, 'Python', 49, 'Works', 'Python', 52, 53, 'Python', 'Works', 56, 'Python', 58, 59, 'HelloWorld', 61, 62, 'Python', 64, 'Works', 'Python', 67, 68, 'Python', 'Works', 71, 'Python', 73, 74, 'HelloWorld', 76, 77, 'Python', 79, 'Works', 'Python', 82, 83, 'Python', 'Works', 86, 'Python', 88, 89, 'HelloWorld', 91, 92, 'Python', 94, 'Works', 'Python', 97, 98, 'Python', 'Works')\n"
          ]
        }
      ]
    },
    {
      "cell_type": "markdown",
      "metadata": {
        "id": "9q2XHDNmIGzk"
      },
      "source": [
        "2\\. The swap function\n",
        "\n",
        "Write a function that swap the values of two input variables x and y (whatever the type). Try to do that also without a temporary variable"
      ]
    },
    {
      "cell_type": "code",
      "metadata": {
        "colab": {
          "base_uri": "https://localhost:8080/"
        },
        "id": "OBLWFrG0NgOo",
        "outputId": "a8393782-cd87-43b1-cd17-f8fab136909e"
      },
      "source": [
        "def swap_function(x,y):\n",
        "    x, y = y, x\n",
        "    print(\"x =\", x)\n",
        "    print(\"y =\", y)\n",
        "    \n",
        "swap_function(10,20)"
      ],
      "execution_count": null,
      "outputs": [
        {
          "output_type": "stream",
          "name": "stdout",
          "text": [
            "x = 20\n",
            "y = 10\n"
          ]
        }
      ]
    },
    {
      "cell_type": "markdown",
      "metadata": {
        "id": "K64OL7CwIGzk"
      },
      "source": [
        "3\\. Computing the distance\n",
        "\n",
        "Write a function that calculates and returns the euclidean distance between two points *u* and *v*, where *u* and *v* are both 2-tuples *(x,y)*. For example, if *u=(3,0)* and *v=(0,4)*, the function should return 5"
      ]
    },
    {
      "cell_type": "code",
      "metadata": {
        "id": "hHdqYjhDREhC"
      },
      "source": [
        "import math\n",
        " \n",
        "# Function to calculate distance\n",
        "def distance(x,y):\n",
        "  # Calculating distance\n",
        "  distance=math.sqrt(math.pow(x[0] - y[0], 2) +\n",
        "                math.pow(x[1] - y[1], 2) * 1.0)\n",
        "  return (distance)\n",
        " "
      ],
      "execution_count": null,
      "outputs": []
    },
    {
      "cell_type": "code",
      "metadata": {
        "colab": {
          "base_uri": "https://localhost:8080/"
        },
        "id": "_5nWyzQISHm-",
        "outputId": "5ef1e9a4-ffb9-45cb-db82-7b252b9ad6c7"
      },
      "source": [
        "u=(3,0)\n",
        "y=(0,4)\n",
        "distance(u,y)"
      ],
      "execution_count": null,
      "outputs": [
        {
          "output_type": "execute_result",
          "data": {
            "text/plain": [
              "5.0"
            ]
          },
          "metadata": {},
          "execution_count": 11
        }
      ]
    },
    {
      "cell_type": "code",
      "metadata": {
        "id": "OCaL_XnSRZw7"
      },
      "source": [
        "dist"
      ],
      "execution_count": null,
      "outputs": []
    },
    {
      "cell_type": "markdown",
      "metadata": {
        "id": "irdLzUfiIGzl"
      },
      "source": [
        "4\\. Counting letters\n",
        "\n",
        "Write a program to calculate the number of times each character occurs in a given string *s*. Ignore differences in capitalization"
      ]
    },
    {
      "cell_type": "code",
      "metadata": {
        "id": "jNDCCDt_IGzl"
      },
      "source": [
        "s = \"Write a program that prints the numbers from 1 to 100. \\\n",
        "But for multiples of three print Hello instead of the number and for the multiples of five print World. \\\n",
        "For numbers which are multiples of both three and five print HelloWorld.\""
      ],
      "execution_count": null,
      "outputs": []
    },
    {
      "cell_type": "code",
      "metadata": {
        "colab": {
          "base_uri": "https://localhost:8080/"
        },
        "id": "-nTDm_GdS290",
        "outputId": "cb82face-7e50-4169-a6ee-42188e0ee95c"
      },
      "source": [
        "s=s.lower()\n",
        "count = {}\n",
        "for st in s:\n",
        "  if st in count:\n",
        "    count[st] += 1\n",
        "  else:\n",
        "    count[st] = 1\n",
        "\n",
        "for key in count:\n",
        "  if count[key] > 1:\n",
        "    print (key,count[key])"
      ],
      "execution_count": null,
      "outputs": [
        {
          "output_type": "stream",
          "name": "stdout",
          "text": [
            "w 4\n",
            "r 19\n",
            "i 12\n",
            "t 19\n",
            "e 20\n",
            "  41\n",
            "a 7\n",
            "p 8\n",
            "o 15\n",
            "m 8\n",
            "h 11\n",
            "n 10\n",
            "s 7\n",
            "u 7\n",
            "b 5\n",
            "f 10\n",
            "1 2\n",
            "0 2\n",
            ". 3\n",
            "l 12\n",
            "d 5\n",
            "v 2\n"
          ]
        }
      ]
    },
    {
      "cell_type": "markdown",
      "metadata": {
        "id": "38T93NiDIGzn"
      },
      "source": [
        "5\\. Isolating the unique\n",
        "\n",
        "Write a function that determines and count the unique numbers in the list:"
      ]
    },
    {
      "cell_type": "code",
      "metadata": {
        "id": "oosjNVPfIGzn"
      },
      "source": [
        "l = [36, 45, 58, 3, 74, 96, 64, 45, 31, 10, 24, 19, 33, 86, 99, 18, 63, 70, 85,\n",
        " 85, 63, 47, 56, 42, 70, 84, 88, 55, 20, 54, 8, 56, 51, 79, 81, 57, 37, 91,\n",
        " 1, 84, 84, 36, 66, 9, 89, 50, 42, 91, 50, 95, 90, 98, 39, 16, 82, 31, 92, 41,\n",
        " 45, 30, 66, 70, 34, 85, 94, 5, 3, 36, 72, 91, 84, 34, 87, 75, 53, 51, 20, 89, 51, 20]"
      ],
      "execution_count": null,
      "outputs": []
    },
    {
      "cell_type": "code",
      "metadata": {
        "id": "AkYQ-l06TiTr"
      },
      "source": [
        "def count(x):\n",
        "  unique = dict(zip(list(x),[list(x).count(i) for i in list(x)]))\n",
        "  return print(\"Dictionary : \",unique)\n"
      ],
      "execution_count": null,
      "outputs": []
    },
    {
      "cell_type": "code",
      "metadata": {
        "colab": {
          "base_uri": "https://localhost:8080/"
        },
        "id": "KY4Pdzi8VMH9",
        "outputId": "566646a1-b237-4cb9-a0c2-d79c14f90400"
      },
      "source": [
        "count(l)"
      ],
      "execution_count": null,
      "outputs": [
        {
          "output_type": "stream",
          "name": "stdout",
          "text": [
            "Dictionary :  {36: 3, 45: 3, 58: 1, 3: 2, 74: 1, 96: 1, 64: 1, 31: 2, 10: 1, 24: 1, 19: 1, 33: 1, 86: 1, 99: 1, 18: 1, 63: 2, 70: 3, 85: 3, 47: 1, 56: 2, 42: 2, 84: 4, 88: 1, 55: 1, 20: 3, 54: 1, 8: 1, 51: 3, 79: 1, 81: 1, 57: 1, 37: 1, 91: 3, 1: 1, 66: 2, 9: 1, 89: 2, 50: 2, 95: 1, 90: 1, 98: 1, 39: 1, 16: 1, 82: 1, 92: 1, 41: 1, 30: 1, 34: 2, 94: 1, 5: 1, 72: 1, 87: 1, 75: 1, 53: 1}\n"
          ]
        }
      ]
    },
    {
      "cell_type": "markdown",
      "metadata": {
        "id": "zWAIYQHSIGzo"
      },
      "source": [
        "Do the same without using user-defined functions, but exploiting only the Python data structures."
      ]
    },
    {
      "cell_type": "code",
      "metadata": {
        "id": "AEp-oPkIVjvE"
      },
      "source": [
        "from collections import Counter  \n",
        "count_result = Counter(l)\n",
        "count_result\n"
      ],
      "execution_count": null,
      "outputs": []
    },
    {
      "cell_type": "markdown",
      "metadata": {
        "id": "-PApT7XZIGzo"
      },
      "source": [
        "6\\. Combination of functions\n",
        "\n",
        "Write two functions - one that returns the square of a number, and one that returns the cube. Now write a third function that returns the number raised to the 6th power using the two previous functions."
      ]
    },
    {
      "cell_type": "code",
      "metadata": {
        "id": "Ulk0hX0SWCS2"
      },
      "source": [
        "def square(num):\n",
        "\treturn  (num*num)\n",
        "\n",
        "def cube(num):\n",
        "\treturn  (num*num*num) \n",
        " \n",
        "def sixth(num):\n",
        "  return (square(num)*cube(num)*num)"
      ],
      "execution_count": null,
      "outputs": []
    },
    {
      "cell_type": "code",
      "metadata": {
        "colab": {
          "base_uri": "https://localhost:8080/"
        },
        "id": "ECyEo_ucXNJw",
        "outputId": "c06cf0da-83ce-4699-afc9-2a939371210b"
      },
      "source": [
        "sixth(5)"
      ],
      "execution_count": null,
      "outputs": [
        {
          "output_type": "execute_result",
          "data": {
            "text/plain": [
              "15625"
            ]
          },
          "metadata": {},
          "execution_count": 20
        }
      ]
    },
    {
      "cell_type": "markdown",
      "metadata": {
        "id": "XSa9Zp3nIGzp"
      },
      "source": [
        "7\\. Cubes\n",
        "\n",
        "Create a list of the cubes of x for x in *[0, 10]* using:\n",
        "\n",
        "a) a for loop\n",
        "\n",
        "b) a list comprehension"
      ]
    },
    {
      "cell_type": "code",
      "metadata": {
        "colab": {
          "base_uri": "https://localhost:8080/"
        },
        "id": "Oeb-6sWFxKXM",
        "outputId": "e977a187-168e-46f8-83f2-44f11b5f11be"
      },
      "source": [
        "cube_lst=[]\n",
        "for i in range(1,11):\n",
        "    cube_lst.append(i**3)\n",
        "\n",
        "print(cube_lst)\n",
        "\n",
        "cube_comp=[i**3 for i in range(1,11)]\n",
        "\n",
        "print(cube_comp)"
      ],
      "execution_count": null,
      "outputs": [
        {
          "output_type": "stream",
          "name": "stdout",
          "text": [
            "[1, 8, 27, 64, 125, 216, 343, 512, 729, 1000]\n",
            "[1, 8, 27, 64, 125, 216, 343, 512, 729, 1000]\n"
          ]
        }
      ]
    },
    {
      "cell_type": "markdown",
      "metadata": {
        "id": "O3yg1qByIGzp"
      },
      "source": [
        "8\\. Nested list comprehension\n",
        "\n",
        "A Pythagorean triple is an integer solution to the Pythagorean theorem $a^2+b^2=c^2$. The first Pythagorean triple is (3,4,5). Find and put in a tuple all unique Pythagorean triples for the positive integers a, b and c less than 100."
      ]
    },
    {
      "cell_type": "code",
      "metadata": {
        "colab": {
          "base_uri": "https://localhost:8080/"
        },
        "id": "yjzpgeGsxdV_",
        "outputId": "2ba6a526-d580-4c2c-ee84-b2e5cdacac3e"
      },
      "source": [
        "from math import gcd\n",
        "\n",
        "def pythagoreanTriplets(k):\n",
        "    n,m = 1,2\n",
        "    while m*m+1<k:                  \n",
        "        if n>=m: n,m = m%2,m+1      # n reached m, advance m, reset n\n",
        "        z = m*m+n*n                  \n",
        "        if z >= k: n=m;continue     \n",
        "        if gcd(n,m) == 1:           \n",
        "            yield m*m-n*n,2*m*n,z   \n",
        "        n += 2  \n",
        "        \n",
        "        \n",
        "for x,y,z in pythagoreanTriplets(100): \n",
        "    print(x,y,z)\n",
        " \n",
        "\n",
        "\n",
        " "
      ],
      "execution_count": 27,
      "outputs": [
        {
          "output_type": "stream",
          "name": "stdout",
          "text": [
            "3 4 5\n",
            "5 12 13\n",
            "15 8 17\n",
            "7 24 25\n",
            "21 20 29\n",
            "9 40 41\n",
            "35 12 37\n",
            "11 60 61\n",
            "45 28 53\n",
            "33 56 65\n",
            "13 84 85\n",
            "63 16 65\n",
            "55 48 73\n",
            "39 80 89\n",
            "77 36 85\n",
            "65 72 97\n"
          ]
        }
      ]
    },
    {
      "cell_type": "markdown",
      "metadata": {
        "id": "Uk1pe63qIGzq"
      },
      "source": [
        "9\\. Normalization\n",
        "\n",
        "Write a function that takes a tuple of numbers and returns it with the entries normalized to one"
      ]
    },
    {
      "cell_type": "code",
      "metadata": {
        "id": "yRs-hMtmIGzq",
        "colab": {
          "base_uri": "https://localhost:8080/"
        },
        "outputId": "1aca5803-c70b-42fb-b575-5f205938dbd3"
      },
      "source": [
        "import numpy as np\n",
        "from sklearn.preprocessing import minmax_scale\n",
        "\n",
        "# your function\n",
        "def normalize_list(list_normal):\n",
        "    max_value = max(list_normal)\n",
        "    min_value = min(list_normal)\n",
        "    for i in range(len(list_normal)):\n",
        "        list_normal[i] = (list_normal[i] - min_value) / (max_value - min_value)\n",
        "    return list_normal\n",
        "\n",
        "test_array = [1, 2, 3, 4, 5, 6, 7, 8, 9]\n",
        "\n",
        "print(normalize_list(test_array))"
      ],
      "execution_count": 34,
      "outputs": [
        {
          "output_type": "stream",
          "name": "stdout",
          "text": [
            "[0.0, 0.125, 0.25, 0.375, 0.5, 0.625, 0.75, 0.875, 1.0]\n"
          ]
        }
      ]
    },
    {
      "cell_type": "code",
      "metadata": {
        "id": "ksOGUJ8pzl-O"
      },
      "source": [
        ""
      ],
      "execution_count": null,
      "outputs": []
    }
  ]
}